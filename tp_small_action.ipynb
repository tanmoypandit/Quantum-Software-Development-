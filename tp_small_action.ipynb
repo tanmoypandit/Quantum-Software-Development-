{
 "cells": [
  {
   "cell_type": "markdown",
   "id": "a7693d78",
   "metadata": {},
   "source": [
    "# Filter + Calibration - Armonk - V1"
   ]
  },
  {
   "cell_type": "code",
   "execution_count": 20,
   "id": "f541fe17",
   "metadata": {},
   "outputs": [
    {
     "name": "stderr",
     "output_type": "stream",
     "text": [
      "ibmqfactory.load_account:WARNING:2021-09-09 16:05:25,067: Credentials are already in use. The existing account in the session will be replaced.\n"
     ]
    },
    {
     "data": {
      "text/plain": [
       "<AccountProvider for IBMQ(hub='ibm-q', group='open', project='main')>"
      ]
     },
     "execution_count": 20,
     "metadata": {},
     "output_type": "execute_result"
    }
   ],
   "source": [
    "from my_functions_v1 import *\n",
    "\n",
    "import numpy as np\n",
    "import matplotlib.pyplot as plt\n",
    "import matplotlib.gridspec as gridspec\n",
    "import time\n",
    "from csv import writer\n",
    "import sympy as sym \n",
    "import math\n",
    "from functools import partial\n",
    "from collections import Counter\n",
    "from qiskit.ignis.mitigation.measurement import (complete_meas_cal, tensored_meas_cal, CompleteMeasFitter, TensoredMeasFitter)\n",
    "\n",
    "from classification import *\n",
    "\n",
    "from qiskit import *\n",
    "from qiskit import IBMQ \n",
    "from qiskit import pulse\n",
    "from qiskit import QuantumCircuit\n",
    "from qiskit import transpile\n",
    "from qiskit import schedule\n",
    "from qiskit import execute\n",
    "\n",
    "\n",
    "\n",
    "# Importing standard Qiskit libraries\n",
    "from qiskit import QuantumCircuit, transpile, Aer, IBMQ\n",
    "from qiskit.tools.jupyter import *\n",
    "#### from qiskit.visualization import * # Aparentemente tem que comentar essa linha aqui\n",
    "from qiskit.visualization.pulse_v2 import draw, IQXDebugging\n",
    "from qiskit.tools.jupyter import *\n",
    "from qiskit.tools.visualization import plot_histogram\n",
    "\n",
    "#from ibm_quantum_widgets import *\n",
    "from qiskit.providers.aer import QasmSimulator\n",
    "from qiskit.pulse.library import Gaussian\n",
    "from qiskit.tools.monitor import job_monitor\n",
    "from qiskit.circuit import Parameter, ParameterExpression  # This is Parameter Class for variable parameters.\n",
    "\n",
    "from IPython.display import display, Math, Latex\n",
    "import scipy.special  # https://stackoverflow.com/questions/36014733/official-abbreviation-for-import-scipy-as-sp-sc\n",
    "\n",
    "\n",
    "\n",
    "\n",
    "\n",
    "us = 1.0e-6 \n",
    "ns = 1.0e-9 \n",
    "GHz = 1.0e9 \n",
    "MHz = 1.0e6 \n",
    "scale_factor = 1e-14\n",
    "\n",
    "\n",
    "# load account credentials\n",
    "IBMQ.load_account() "
   ]
  },
  {
   "cell_type": "code",
   "execution_count": 59,
   "id": "8b262fe6",
   "metadata": {},
   "outputs": [
    {
     "name": "stdout",
     "output_type": "stream",
     "text": [
      "{'delta0': -2181477525.8495026, 'omegad0': 104517533.08603992, 'wq0': 31237509417.373302}\n"
     ]
    },
    {
     "data": {
      "text/latex": [
       "$\\displaystyle T_1(q_0)=143.97549069165274 \\ \\mu\\text{s}$"
      ],
      "text/plain": [
       "<IPython.core.display.Math object>"
      ]
     },
     "metadata": {},
     "output_type": "display_data"
    },
    {
     "data": {
      "text/latex": [
       "$\\displaystyle T_2(q_0)=250.7746989760038 \\ \\mu\\text{s}$"
      ],
      "text/plain": [
       "<IPython.core.display.Math object>"
      ]
     },
     "metadata": {},
     "output_type": "display_data"
    },
    {
     "data": {
      "text/latex": [
       "$\\displaystyle \\begin{align} \\mathcal{H}/\\hbar = & \\sum_{i=0}^{0}\\left(\\frac{\\omega_{q,i}}{2}(\\mathbb{I}-\\sigma_i^{z})+\\frac{\\Delta_{i}}{2}(O_i^2-O_i)+\\Omega_{d,i}D_i(t)\\sigma_i^{X}\\right) \\\\ \\end{align}$"
      ],
      "text/plain": [
       "<IPython.core.display.Math object>"
      ]
     },
     "metadata": {},
     "output_type": "display_data"
    },
    {
     "data": {
      "text/latex": [
       "$\\displaystyle \\omega_0=31.237509417373303 \\ \\text{GHz}$"
      ],
      "text/plain": [
       "<IPython.core.display.Math object>"
      ]
     },
     "metadata": {},
     "output_type": "display_data"
    },
    {
     "data": {
      "text/latex": [
       "$\\displaystyle \\Omega_0=0.10451753308603992 \\ \\text{GHz}$"
      ],
      "text/plain": [
       "<IPython.core.display.Math object>"
      ]
     },
     "metadata": {},
     "output_type": "display_data"
    },
    {
     "data": {
      "text/latex": [
       "$\\displaystyle \\Delta_0=-2.1814775258495027 \\ \\text{GHz}$"
      ],
      "text/plain": [
       "<IPython.core.display.Math object>"
      ]
     },
     "metadata": {},
     "output_type": "display_data"
    },
    {
     "name": "stdout",
     "output_type": "stream",
     "text": [
      "Sampling time: 0.2222222222222222 ns\n"
     ]
    },
    {
     "data": {
      "text/plain": [
       "'Thu Sep  9 16:42:52 2021'"
      ]
     },
     "execution_count": 59,
     "metadata": {},
     "output_type": "execute_result"
    }
   ],
   "source": [
    "hub = 'ibm-q-research'\n",
    "group = 'jerusalem-1'\n",
    "project = 'main'\n",
    "\n",
    "# hub='ibm-q'\n",
    "# group='open'\n",
    "# project='main'\n",
    "\n",
    "backend_name =  'ibmq_armonk'  \n",
    "\n",
    "provider = IBMQ.get_provider(hub=hub, group=group, project=project)\n",
    "\n",
    "backend = provider.get_backend(backend_name)\n",
    "\n",
    "backend_config = backend.configuration()\n",
    "backend_defaults = backend.defaults()\n",
    "backend_props = backend.properties()\n",
    "\n",
    "dt = backend_config.dt\n",
    "\n",
    "\n",
    "\n",
    "assert backend_config.open_pulse , \"Backend doesn't support Pulse!!!\"\n",
    "# print(backend_config.basis_gates)\n",
    "# print(backend_config.hamiltonian['description'])  # Information about the Hamiltonian\n",
    "\n",
    "display(Math(r'T_1(q_0)={} \\ \\mu\\text{{s}}'.format(backend_props.t1(0)/us)))\n",
    "display(Math(r'T_2(q_0)={} \\ \\mu\\text{{s}}'.format(backend_props.t2(0)/us)))\n",
    "display(Math(backend_config.hamiltonian['h_latex']))\n",
    "display(Math(r'\\omega_0={} \\ \\text{{GHz}}'.format(backend_config.hamiltonian[\"vars\"][\"wq0\"]/GHz)))\n",
    "display(Math(r'\\Omega_0={} \\ \\text{{GHz}}'.format(backend_config.hamiltonian[\"vars\"][\"omegad0\"]/GHz)))\n",
    "display(Math(r'\\Delta_0={} \\ \\text{{GHz}}'.format(backend_config.hamiltonian[\"vars\"][\"delta0\"]/GHz)))\n",
    "dt = backend_config.dt\n",
    "\n",
    "\n",
    "print(f\"Sampling time: {dt*1e9} ns\")   \n",
    "time.ctime() "
   ]
  },
  {
   "cell_type": "markdown",
   "id": "9eec38fc",
   "metadata": {},
   "source": [
    "# Small Action"
   ]
  },
  {
   "cell_type": "code",
   "execution_count": 114,
   "id": "efbfc64e",
   "metadata": {},
   "outputs": [],
   "source": [
    "ramsey_frequency = np.genfromtxt('ramsey_frequency.csv', delimiter=',')   \n",
    "mean_exc = np.genfromtxt('mean_exc.csv', dtype=complex, delimiter=',')   \n",
    "mean_gnd = np.genfromtxt('mean_gnd.csv', dtype=complex, delimiter=',')   "
   ]
  },
  {
   "cell_type": "code",
   "execution_count": 27,
   "id": "5353089e",
   "metadata": {},
   "outputs": [
    {
     "name": "stdout",
     "output_type": "stream",
     "text": [
      "Here sigma_0 = 160dt or 0.035555555555555556us, duration = 0.28444444444444444us\n"
     ]
    },
    {
     "data": {
      "image/png": "[encoded data removed]",
      "text/plain": [
       "<Figure size 936x356.387 with 1 Axes>"
      ]
     },
     "execution_count": 27,
     "metadata": {},
     "output_type": "execute_result"
    }
   ],
   "source": [
    "d0 = pulse.DriveChannel(0)\n",
    "m0 = pulse.MeasureChannel(0)\n",
    "a0 = pulse.AcquireChannel(0)\n",
    "mem_slot = 0\n",
    "qubit = 0\n",
    "\n",
    "\n",
    "def my_gauss(amp, sigma, duration):\n",
    "    return pulse.Gaussian(duration = duration,\n",
    "                          amp =  amp, \n",
    "                          sigma = sigma, \n",
    "                          name = 'my_gauss')\n",
    "\n",
    "\n",
    "def my_drag(amp, sigma, duration, beta):\n",
    "    return pulse.Drag(duration = duration, \n",
    "                        amp = amp, \n",
    "                        sigma = sigma, \n",
    "                        beta = beta, \n",
    "                        name = 'my_drag')\n",
    "\n",
    "\n",
    "# pi pulse - calibration\n",
    "amp_0 = 0.01 # 0.1408940367454696 \n",
    "sigma_0 = 160 #336 #500\n",
    "dur_fact = 8\n",
    "beta = -1.2293053750989376 \n",
    "\n",
    "\n",
    "print(f'Here sigma_0 = {sigma_0}dt or {sigma_0 * dt/us}us, duration = {dur_fact * sigma_0* dt/us}us')\n",
    "\n",
    "\n",
    "def My_scheds(n, fac):\n",
    "    Sig_x = sigma_0 * fac \n",
    "    Amp_x = amp_0 / fac            \n",
    "    Dur_x = dur_fact * Sig_x   \n",
    "    return my_scheds[n].assign_parameters({sig_x: Sig_x, amp_x: Amp_x, dur_x:  Dur_x}, inplace=False)  \n",
    "\n",
    "\n",
    "my_scheds = []\n",
    "sig_x, amp_x, dur_x = Parameter('sig_x'), Parameter('amp_x'), Parameter('dur_x') \n",
    "for n in range(0,10): \n",
    "    with pulse.build(backend, name=f\"{n}-Pulses\") as my_sched:\n",
    "        pulse.set_frequency(ramsey_frequency, d0)\n",
    "        for loop_counts in range(0,n):\n",
    "            sigma = sig_x\n",
    "            amp = amp_x \n",
    "            duration = dur_x\n",
    "            pulse.play(my_gauss(amp, sigma, duration), d0)       # GAUSS\n",
    "#             pulse.play(my_drag(amp, sigma, duration, beta), d0)  # DRAG\n",
    "        pulse.barrier(d0,m0)\n",
    "        pulse.barrier(d0,a0)\n",
    "        # Measurement! \n",
    "        pulse.measure(qubits = qubit, registers=[pulse.MemorySlot(mem_slot)])\n",
    "    my_scheds.append(my_sched)  \n",
    "\n",
    "\n",
    "# Exemple    \n",
    "My_scheds(1,1).draw(style=IQXDebugging(), backend=backend, time_range=(0 , 5000 * ns/dt))  "
   ]
  },
  {
   "cell_type": "code",
   "execution_count": 81,
   "id": "0d42d68e",
   "metadata": {},
   "outputs": [
    {
     "name": "stdout",
     "output_type": "stream",
     "text": [
      "613a67e388745f87dcb9c416\n",
      "Job Status: job has successfully run\n"
     ]
    },
    {
     "data": {
      "text/plain": [
       "'Thu Sep  9 17:14:11 2021'"
      ]
     },
     "execution_count": 81,
     "metadata": {},
     "output_type": "execute_result"
    }
   ],
   "source": [
    "fac_range = [1]  \n",
    "                 \n",
    "                            \n",
    "def sched_batch_gauss(n, m):                           \n",
    "    tab = []                                           \n",
    "    for k in range(0, m):             # batches loop     \n",
    "        for j in fac_range:           # factor  loop\n",
    "            for i in range(0, n+1):   # pulses  loop\n",
    "                tab.append(My_scheds(i, j))\n",
    "    return tab  \n",
    "\n",
    "\n",
    "pulse_num = 1                 \n",
    "batches_num = 35\n",
    "shots_num = 8192\n",
    "\n",
    "\n",
    "job = backend.run(sched_batch_gauss(pulse_num,batches_num), \n",
    "                  meas_level = 1, \n",
    "                  meas_return = 'single', \n",
    "                  shots = shots_num)\n",
    "\n",
    "print(job.job_id())\n",
    "job_monitor(job)\n",
    "time.ctime()  "
   ]
  },
  {
   "cell_type": "code",
   "execution_count": 82,
   "id": "a89637c4",
   "metadata": {},
   "outputs": [],
   "source": [
    "points_results = job.result(timeout=120)"
   ]
  },
  {
   "cell_type": "code",
   "execution_count": 83,
   "id": "dbbeea70",
   "metadata": {},
   "outputs": [],
   "source": [
    "def res_tot(i, j):       # pulse & factor\n",
    "    l_1 = pulse_num+1    \n",
    "    l_2 = len(fac_range)    \n",
    "    l_3 = batches_num\n",
    "    if i > l_1-1:\n",
    "        y = error\n",
    "    elif j > l_2-1:   \n",
    "        y = error\n",
    "    else:\n",
    "        y = points_results.get_memory(i+j*l_1)                               \n",
    "        for m in range( i + l_1*(j + l_2), l_1*l_2*l_3, l_1*l_2):\n",
    "            y = np.append(y, points_results.get_memory(m))\n",
    "    return y*scale_factor                                    # <---------- scale_factor --------------------"
   ]
  },
  {
   "cell_type": "code",
   "execution_count": 98,
   "id": "690c7808",
   "metadata": {},
   "outputs": [
    {
     "data": {
      "image/png": "[encoded data removed]",
      "text/plain": [
       "<Figure size 720x720 with 2 Axes>"
      ]
     },
     "metadata": {
      "needs_background": "light"
     },
     "output_type": "display_data"
    }
   ],
   "source": [
    "%matplotlib inline\n",
    "\n",
    "fig = plt.figure()\n",
    "\n",
    "fig.set_figheight(10)\n",
    "fig.set_figwidth(10)\n",
    "\n",
    "ax1 = fig.add_subplot(1,2,1, aspect=1)\n",
    "ax2 = fig.add_subplot(1,2,2, aspect=1)\n",
    "# ax3 = fig.add_subplot(1,3,3, aspect=1)\n",
    "\n",
    "ax1.scatter(np.real(res_tot(0, 0)), np.imag(res_tot(0, 0)), \n",
    "            s=0.5, cmap='viridis', c='tab:blue', alpha=0.5, label='p0')\n",
    "\n",
    "ax2.scatter(np.real(res_tot(1, 0)), np.imag(res_tot(1, 0)), \n",
    "            s=0.5, cmap='viriscale_factordis', c='tab:red', alpha=0.5, label='p1')\n",
    "\n",
    "\n",
    "# ax3.scatter(np.real(res_tot(2, 0)), np.imag(res_tot(2, 0)), \n",
    "#             s=5, cmap='viridis', c='tab:blue', alpha=0.5, label='p2')\n",
    "\n",
    "\n",
    "ax1.set_xlim([-5, 25])\n",
    "ax1.set_ylim([-25, 0])\n",
    "\n",
    "ax2.set_xlim([-5, 25])\n",
    "ax2.set_ylim([-25, 0])\n",
    "\n",
    "# ax3.set_xlim([-10, 20])\n",
    "# ax3.set_ylim([-30, 0])\n",
    "\n",
    "\n",
    "\n",
    "\n",
    "# mean point\n",
    "ax1.scatter(np.real(mean_gnd), np.imag(mean_gnd), s=10, cmap='viridis', c='k', alpha=1.0)\n",
    "ax1.scatter(np.real(mean_exc), np.imag(mean_exc), s=10, cmap='viridis', c='k', alpha=1.0)\n",
    "\n",
    "ax2.scatter(np.real(mean_gnd), np.imag(mean_gnd), s=10, cmap='viridis', c='k',alpha=1.0)\n",
    "ax2.scatter(np.real(mean_exc), np.imag(mean_exc), s=10, cmap='viridis', c='k',alpha=1.0)\n",
    "\n",
    "\n",
    "ax1.set_ylabel('I [a.u.]', fontsize=15)\n",
    "ax1.set_xlabel('Q [a.u.]', fontsize=15)\n",
    "ax2.set_ylabel('I [a.u.]', fontsize=15)\n",
    "ax2.set_xlabel('Q [a.u.]', fontsize=15)\n",
    "# ax3.set_ylabel('I [a.u.]', fontsize=15)\n",
    "# ax3.set_xlabel('Q [a.u.]', fontsize=15)\n",
    "\n",
    "# ax1.set_title(\"$r=d/2$\", fontsize=20)\n",
    "# ax2.set_title(\"$r=d/4$\", fontsize=20)\n",
    "# ax3.set_title(\"$D=\\lambda d$,   $\\quad\\lambda={}$\".format(my_plot_factor), fontsize=20)\n",
    "\n",
    "\n",
    "ax1.legend(fontsize=12, loc='upper right', borderpad=0.1, handletextpad=0.05)\n",
    "# ax2.legend(fontsize=12, loc='upper right', borderpad=0.1, handletextpad=0.05)\n",
    "# ax3.legend(fontsize=12, loc='upper right', borderpad=0.1, handletextpad=0.05)\n",
    "\n",
    "\n",
    "plt.subplots_adjust(wspace=0.4)\n",
    "\n",
    "#plt.savefig('comparing.png', dpi=400, bbox_inches = 'tight')\n",
    "\n",
    "\n",
    "\n",
    "\n",
    "\n",
    "# Show graphic\n",
    "plt.show();"
   ]
  },
  {
   "cell_type": "code",
   "execution_count": 122,
   "id": "f3ea71ec",
   "metadata": {},
   "outputs": [
    {
     "data": {
      "text/plain": [
       "array([[ 1.00253281, -0.02106044],\n",
       "       [-0.00253281,  1.02106044]])"
      ]
     },
     "metadata": {},
     "output_type": "display_data"
    },
    {
     "data": {
      "text/plain": [
       "array(1.3)"
      ]
     },
     "metadata": {},
     "output_type": "display_data"
    }
   ],
   "source": [
    "mat_filt_from_rabi = np.genfromtxt('mat_filt.csv', delimiter=',')   \n",
    "LAMBDA = np.genfromtxt('LAMBDA.csv', delimiter=',')   \n",
    "\n",
    "display(mat_filt_from_rabi)\n",
    "display(LAMBDA)"
   ]
  },
  {
   "cell_type": "code",
   "execution_count": 123,
   "id": "4a6c00c3",
   "metadata": {},
   "outputs": [],
   "source": [
    "\n",
    "Filter_Cal = True\n",
    "\n",
    "\n",
    "new_dic_counts = {}\n",
    "for j in range(0, len(fac_range)):                 \n",
    "    for i in range(0, pulse_num+1):                \n",
    "        new_dic_counts[i, j] = classify_v3_map(res_tot(i, j), LAMBDA, mean_gnd, mean_exc)\n",
    "        del new_dic_counts[i, j][\"<class 'ValueError'>\"]\n",
    "\n",
    "        \n",
    "def vec_fillter(i,j):\n",
    "    vec = np.array([new_dic_counts[i,j]['0'], new_dic_counts[i,j]['1']])\n",
    "    if Filter_Cal == True:\n",
    "        vec_filter = np.dot(mat_filt_from_rabi,vec)\n",
    "    elif Filter_Cal == False:     \n",
    "        vec_filter = vec\n",
    "    else:\n",
    "        vec_filter = error    \n",
    "    dic = {'0': round(vec_filter[0]), '1': round(vec_filter[1])}  \n",
    "    return dic\n",
    "\n",
    "\n",
    "def R_(i,j):\n",
    "    return vec_fillter(i,j)['0']/(vec_fillter(i,j)['0']+vec_fillter(i,j)['1'])\n",
    "\n",
    "\n",
    "def BINOMIAL(n, m):\n",
    "    if n < 0 and m > 0:\n",
    "        return (-1)**m * scipy.special.comb(-n+m-1, m) \n",
    "    if n < 0 and m < 0:\n",
    "        if -m >= -n: \n",
    "            return (-1)**(-m+n) * scipy.special.comb(-m-1, -n-1)\n",
    "        if -m < -n:\n",
    "            return 0\n",
    "    else:\n",
    "        return scipy.special.comb(n, m)\n",
    "\n",
    "def S_(n,j):\n",
    "    ma = []\n",
    "    for m in range(1, n+1):\n",
    "        ma.append(BINOMIAL(m-n-1, m+n) * R_(m,j))\n",
    "    return (1/2)**(2*n-1)  * BINOMIAL(2*n-1, n-1) * R_(0,j)  + ((-1)**n)/(2**(2*n-1)) * np.sum(ma)    \n",
    "\n",
    "\n",
    "def diss_rate(n,j):\n",
    "    if   n == 1:\n",
    "        res = 2*S_(1,j)\n",
    "    elif n == 2:    \n",
    "        res = 4*S_(2,j)\n",
    "    elif n == 3:\n",
    "        res = 16/3*S_(3,j)\n",
    "    elif n == 4:\n",
    "        res = 16/3*S_(4,j)   \n",
    "    elif n == 5:\n",
    "        res = 32/5 * S_(5,j)\n",
    "    else:\n",
    "        res = error\n",
    "    return res"
   ]
  },
  {
   "cell_type": "code",
   "execution_count": 124,
   "id": "774a8692",
   "metadata": {},
   "outputs": [
    {
     "name": "stdout",
     "output_type": "stream",
     "text": [
      "\n",
      "Thu Sep  9 23:38:22 2021\n",
      "\n",
      "Total shots: 286720\n",
      "Filter: True\n",
      "Amp_0: 0.01 \n",
      "sigma_0: 160, dur_fact: 8, fac_range: [1]\n",
      "{'delta0': -2181477525.8495026, 'omegad0': 104517533.08603992, 'wq0': 31237509417.373302}, t1(0)=0.00014397549069165272, t2(0)=0.0002507746989760038\n",
      "\n",
      "R_(0,0) = 1.0001371585324037\n",
      "R_(1,0) = 0.9966681219697143\n",
      "\n",
      "\n",
      "S_(0,0) = 2.0002743170648074\n",
      "S_(1,0) = 0.001734518281344688\n",
      "\n",
      "\n",
      "diss_rate(1,0) = 0.003469036562689376\n",
      "\n",
      "\n"
     ]
    }
   ],
   "source": [
    "print(f'\\n{time.ctime()}\\n\\nTotal shots: {batches_num*shots_num}')  \n",
    "print(f'Filter: {Filter_Cal}')  \n",
    "print(f'Amp_0: {amp_0} \\nsigma_0: {sigma_0}, dur_fact: {dur_fact}, fac_range: {fac_range}')\n",
    "print(f\"{backend_config.hamiltonian['vars']}, t1(0)={backend_props.t1(0)}, t2(0)={backend_props.t2(0)}\\n\")\n",
    "\n",
    "for i in range(0,pulse_num+1):\n",
    "    for j in range(0,len(fac_range)):\n",
    "        print(f'R_({i},{j}) = {R_(i,j)}')              \n",
    "print('\\n')    \n",
    "for i in range(0,pulse_num+1):\n",
    "    for j in range(0,len(fac_range)):\n",
    "        print(f'S_({i},{j}) = {S_(i,j)}')              \n",
    "print(\"\\n\")        \n",
    "for i in range(1,pulse_num+1):\n",
    "    for j in range(0,len(fac_range)):\n",
    "        print(f'diss_rate({i},{j}) = {diss_rate(i,j)}')                  \n",
    "print(\"\\n\")   "
   ]
  },
  {
   "cell_type": "code",
   "execution_count": 111,
   "id": "0ebac975",
   "metadata": {},
   "outputs": [
    {
     "name": "stdout",
     "output_type": "stream",
     "text": [
      "\n",
      "Thu Sep  9 23:15:29 2021\n",
      "\n",
      "Total shots: 286720\n",
      "Filter: True\n",
      "Amp_0: 0.01 \n",
      "sigma_0: 160, dur_fact: 8, fac_range: [1]\n",
      "{'delta0': -2181477525.8495026, 'omegad0': 104517533.08603992, 'wq0': 31237509417.373302}, t1(0)=0.00014397549069165272, t2(0)=0.0002507746989760038\n",
      "\n",
      "R_(0,0) = 1.0005401208520406\n",
      "R_(1,0) = 0.9981462444597988\n",
      "\n",
      "\n",
      "S_(0,0) = 2.001080241704081\n",
      "S_(1,0) = 0.001196938196120878\n",
      "\n",
      "\n",
      "diss_rate(1,0) = 0.002393876392241756\n"
     ]
    }
   ],
   "source": [
    "print(f'\\n{time.ctime()}\\n\\nTotal shots: {batches_num*shots_num}')  \n",
    "print(f'Filter: {Filter_Cal}')  \n",
    "print(f'Amp_0: {amp_0} \\nsigma_0: {sigma_0}, dur_fact: {dur_fact}, fac_range: {fac_range}')\n",
    "print(f\"{backend_config.hamiltonian['vars']}, t1(0)={backend_props.t1(0)}, t2(0)={backend_props.t2(0)}\\n\")\n",
    "\n",
    "for i in range(0,pulse_num+1):\n",
    "    for j in range(0,len(fac_range)):\n",
    "        print(f'R_({i},{j}) = {R_(i,j)}')              \n",
    "print('\\n')    \n",
    "for i in range(0,pulse_num+1):\n",
    "    for j in range(0,len(fac_range)):\n",
    "        print(f'S_({i},{j}) = {S_(i,j)}')              \n",
    "print(\"\\n\")        \n",
    "for i in range(1,pulse_num+1):\n",
    "    for j in range(0,len(fac_range)):\n",
    "        print(f'diss_rate({i},{j}) = {diss_rate(i,j)}')"
   ]
  },
  {
   "cell_type": "code",
   "execution_count": null,
   "id": "dd859144",
   "metadata": {},
   "outputs": [],
   "source": [
    "# timestr = time.strftime(\"%Y-%m-%d---%H-%M-%S\")\n",
    "# sys.stdout = open(f\"data-{timestr}.txt\", \"w\")\n",
    "# print(\"-\"*65, file=open(f\"data-{timestr}.txt\", \"w\"))\n",
    "\n",
    "# print(f'\\n{time.ctime()}\\n\\nTotal shots: {batches_num*shots_num}')  \n",
    "# print(f'Filter = {Filter_Cal}')  \n",
    "# print(f'Amp_0: {amp_0} \\nsigma_0: {sigma_0}') \n",
    "# print(f'dur_fact: {dur_fact}')           \n",
    "# print(f'fac_range: {fac_range}\\n')\n",
    "# for i in range(0,pulse_num+1):\n",
    "#     for j in range(0,len(fac_range)):\n",
    "#         print(f'R_({i},{j}) = {R_(i,j)}')              \n",
    "# print('\\n')    \n",
    "# for i in range(0,pulse_num+1):\n",
    "#     for j in range(0,len(fac_range)):\n",
    "#         print(f'S_({i},{j}) = {S_(i,j)}')              \n",
    "# print(\"\\n\")        \n",
    "# for i in range(1,pulse_num+1):\n",
    "#     for j in range(0,len(fac_range)):\n",
    "#         print(f'diss_rate({i},{j}) = {diss_rate(i,j)}')                  \n",
    "# print(\"\\n\")   \n",
    "# sys.stdout.close()\n"
   ]
  },
  {
   "cell_type": "code",
   "execution_count": 75,
   "id": "a70e326e",
   "metadata": {},
   "outputs": [
    {
     "name": "stdout",
     "output_type": "stream",
     "text": [
      "\n",
      "Thu Sep  9 16:48:41 2021\n",
      "\n",
      "Total shots: 98304\n",
      "Filter: True\n",
      "Amp_0: 0.01 \n",
      "sigma_0: 160\n",
      "dur_fact: 8\n",
      "fac_range: [1, 2, 3]\n",
      "{'delta0': -2181477525.8495026, 'omegad0': 104517533.08603992, 'wq0': 31237509417.373302}, t1(0)=0.00014397549069165272, t2(0)=0.0002507746989760038\n",
      "\n",
      "R_(0,0) = 0.9999506465304511\n",
      "R_(0,1) = 0.999653987790712\n",
      "R_(0,2) = 0.9996173784250802\n",
      "R_(1,0) = 0.9975068499913604\n",
      "R_(1,1) = 0.9976824457593688\n",
      "R_(1,2) = 0.998778169970133\n",
      "\n",
      "\n",
      "S_(0,0) = 1.9999012930609021\n",
      "S_(0,1) = 1.999307975581424\n",
      "S_(0,2) = 1.9992347568501605\n",
      "S_(1,0) = 0.0012218982695453295\n",
      "S_(1,1) = 0.0009857710156715993\n",
      "S_(1,2) = 0.00041960422747361337\n",
      "\n",
      "\n",
      "diss_rate(1,0) = 0.002443796539090659\n",
      "diss_rate(1,1) = 0.0019715420313431986\n",
      "diss_rate(1,2) = 0.0008392084549472267\n",
      "\n",
      "\n"
     ]
    }
   ],
   "source": [
    "print(f'\\n{time.ctime()}\\n\\nTotal shots: {batches_num*shots_num}')  \n",
    "print(f'Filter: {Filter_Cal}')  \n",
    "print(f'Amp_0: {amp_0} \\nsigma_0: {sigma_0}') \n",
    "print(f'dur_fact: {dur_fact}')           \n",
    "print(f'fac_range: {fac_range}')\n",
    "print(f\"{backend_config.hamiltonian['vars']}, t1(0)={backend_props.t1(0)}, t2(0)={backend_props.t2(0)}\\n\")\n",
    "\n",
    "for i in range(0,pulse_num+1):\n",
    "    for j in range(0,len(fac_range)):\n",
    "        print(f'R_({i},{j}) = {R_(i,j)}')              \n",
    "print('\\n')    \n",
    "for i in range(0,pulse_num+1):\n",
    "    for j in range(0,len(fac_range)):\n",
    "        print(f'S_({i},{j}) = {S_(i,j)}')              \n",
    "print(\"\\n\")        \n",
    "for i in range(1,pulse_num+1):\n",
    "    for j in range(0,len(fac_range)):\n",
    "        print(f'diss_rate({i},{j}) = {diss_rate(i,j)}')                  \n",
    "print(\"\\n\")    "
   ]
  },
  {
   "cell_type": "code",
   "execution_count": null,
   "id": "b8037a23",
   "metadata": {},
   "outputs": [],
   "source": []
  },
  {
   "cell_type": "code",
   "execution_count": null,
   "id": "46707f4e",
   "metadata": {},
   "outputs": [],
   "source": [
    "    if collect_data:\n",
    "        print(\"-\"*65, file=open(\"data_class_3.txt\", \"a\"))\n",
    "        print(f'\\n{time.ctime()}\\n\\nTotal shots: {batches_num*shots_num}', file=open(\"data_class_3.txt\", \"a\"))  \n",
    "        print(f'Amp_0: {amp_0} \\nsigma_0: {sigma_0}', file=open(\"data_class_3.txt\", \"a\")) \n",
    "        print(f'dur_fact: {dur_fact}', file=open(\"data_class_3.txt\", \"a\"))           \n",
    "        print(f'fac_range: {fac_range}\\n', file=open(\"data_class_3.txt\", \"a\"))\n",
    "        for i in range(0,pulse_num+1):\n",
    "            for j in range(0,len(fac_range)):\n",
    "                print(f'R_({i},{j}) = {R_(i,j)}', file=open(\"data_class_3.txt\", \"a\"))              \n",
    "        print('\\n')    \n",
    "        for i in range(0,pulse_num+1):\n",
    "            for j in range(0,len(fac_range)):\n",
    "                print(f'S_({i},{j}) = {S_(i,j)}', file=open(\"data_class_3.txt\", \"a\"))              \n",
    "        print(\"\\n\")        \n",
    "        for i in range(1,pulse_num+1):\n",
    "            for j in range(0,len(fac_range)):\n",
    "                print(f'diss_rate({i},{j}) = {diss_rate(i,j)}', file=open(\"data_class_3.txt\", \"a\"))                  \n",
    "        print(\"\\n\")    \n",
    "        \n"
   ]
  },
  {
   "cell_type": "code",
   "execution_count": 162,
   "id": "ad7f1070",
   "metadata": {},
   "outputs": [
    {
     "data": {
      "image/png": "[encoded data removed]",
      "text/plain": [
       "<Figure size 360x360 with 1 Axes>"
      ]
     },
     "metadata": {
      "needs_background": "light"
     },
     "output_type": "display_data"
    }
   ],
   "source": [
    "%matplotlib inline\n",
    "\n",
    "\n",
    "\n",
    "fig = plt.figure()\n",
    "\n",
    "plt.style.use('ggplot')\n",
    "#plt.style.use('default')\n",
    "   \n",
    "X = fac_range\n",
    "    \n",
    "ax = fig.add_subplot(1,1,1)\n",
    "\n",
    "fig.set_figheight(5)\n",
    "fig.set_figwidth(5)\n",
    "\n",
    "plt.tick_params(labelsize=12)\n",
    "\n",
    "#plt.xlabel(\"Drive amp [a.u.]\")\n",
    "#plt.ylabel(\"Measured signal [a.u.]\")\n",
    "Y1 = [diss_rate(1,i) for i in range(0,len(fac_range))]\n",
    "ax.scatter(X, Y1, color='tab:red', label='$S_1$')\n",
    "ax.plot(X, Y1, color='tab:red') \n",
    "\n",
    "# Y2 = [diss_rate(2,i)for i in range(0,len(fac_range))]\n",
    "# ax.scatter(X, Y2, color='tab:blue', label='$S_2$')\n",
    "# ax.plot(X, Y2, color='tab:blue') \n",
    "\n",
    "# Y3 = [diss_rate(3,i) for i in range(0,len(fac_range))]\n",
    "# ax.scatter(X, Y3, color='tab:green', label='$S_3$')\n",
    "# ax.plot(X, Y3, color='tab:green') \n",
    "\n",
    "# Y4 = [diss_rate(4,i) for i in range(0,len(fac_range))]\n",
    "# plt.scatter(X, Y4, color='tab:orange', label='$S_4$')\n",
    "# plt.plot(X, Y4, color='tab:orange') \n",
    "\n",
    "\n",
    "ax.text(0.05, 0.07, '$\\\\sigma=\\\\lambda\\\\times{0}$\\n$amp={1}/\\\\lambda$\\n{2}\\nclass_3'.format(sigma_0,amp_0,backend_name),\n",
    "        verticalalignment='bottom', horizontalalignment='left',\n",
    "        transform=ax.transAxes,\n",
    "        color='black', fontsize=10)\n",
    "\n",
    "\n",
    "ax.set_xlabel('$\\lambda$', fontsize=20)\n",
    "ax.legend(title='$-\\\\Delta t \\\\langle\\\\rho_0|\\\\mathcal{D}|\\\\rho_0\\\\rangle $',fontsize=12)\n",
    "ax.set_title(\"total shots = {0}x{1}\".format(batches_num,shots_num), fontsize=15)\n",
    "\n",
    "# if class_3:\n",
    "#     timestr = time.strftime(\"%Y-%m-%d---%H-%M-%S\")\n",
    "#     plt.savefig(f'class_3-{timestr}.png', dpi=400, bbox_inches = 'tight')\n",
    "\n",
    "\n",
    "plt.show()"
   ]
  },
  {
   "cell_type": "code",
   "execution_count": 60,
   "id": "28fa6eec",
   "metadata": {},
   "outputs": [
    {
     "data": {
      "text/plain": [
       "{'delta0': -2181477525.8495026,\n",
       " 'omegad0': 104517533.08603992,\n",
       " 'wq0': 31237509417.373302}"
      ]
     },
     "execution_count": 60,
     "metadata": {},
     "output_type": "execute_result"
    }
   ],
   "source": [
    "backend_config.hamiltonian['vars']"
   ]
  },
  {
   "cell_type": "code",
   "execution_count": null,
   "id": "e5dc2f97",
   "metadata": {},
   "outputs": [],
   "source": []
  }
 ],
 "metadata": {
  "kernelspec": {
   "display_name": "Python 3",
   "language": "python",
   "name": "python3"
  },
  "language_info": {
   "codemirror_mode": {
    "name": "ipython",
    "version": 3
   },
   "file_extension": ".py",
   "mimetype": "text/x-python",
   "name": "python",
   "nbconvert_exporter": "python",
   "pygments_lexer": "ipython3",
   "version": "3.8.8"
  }
 },
 "nbformat": 4,
 "nbformat_minor": 5
}
