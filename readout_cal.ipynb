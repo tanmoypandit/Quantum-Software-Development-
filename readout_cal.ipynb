{
 "cells": [
  {
   "cell_type": "code",
   "execution_count": 1,
   "id": "f63c6156-bc40-4577-9ec5-e690d3918ad4",
   "metadata": {},
   "outputs": [
    {
     "data": {
      "text/plain": [
       "'0.25.1'"
      ]
     },
     "metadata": {},
     "output_type": "display_data"
    },
    {
     "data": {
      "text/plain": [
       "{'qiskit-terra': '0.25.1', 'qiskit': '0.44.1', 'qiskit-aer': '0.12.2', 'qiskit-ignis': None, 'qiskit-ibmq-provider': '0.20.2', 'qiskit-nature': None, 'qiskit-finance': None, 'qiskit-optimization': None, 'qiskit-machine-learning': None}"
      ]
     },
     "metadata": {},
     "output_type": "display_data"
    }
   ],
   "source": [
    "import qiskit\n",
    "display(qiskit.__version__)\n",
    "display(qiskit.__qiskit_version__)"
   ]
  },
  {
   "cell_type": "code",
   "execution_count": 2,
   "id": "d9286e33-3d81-4940-a072-75ae8e118a26",
   "metadata": {},
   "outputs": [],
   "source": [
    "import numpy as np\n",
    "import random\n",
    "import time\n",
    "from datetime import datetime\n",
    "import mthree\n",
    "from collections import Counter\n",
    "import itertools\n",
    "\n",
    "\n",
    "import pandas as pd\n",
    "heading_properties = [('font-size', '15px')]\n",
    "cell_properties = [('font-size', '15px')]\n",
    "dfstyle = [dict(selector=\"th\", props=heading_properties),\\\n",
    "           dict(selector=\"td\", props=cell_properties),\n",
    "           dict(selector=\"caption\",\n",
    "           props=[(\"text-align\", \"center\"),\n",
    "                  (\"font-size\", \"15px\"),\n",
    "                  (\"color\", 'black')])]\n",
    "\n",
    "\n",
    "from qiskit import QuantumCircuit\n",
    "from qiskit import schedule\n",
    "from qiskit import pulse\n",
    "from qiskit.circuit import Gate\n",
    "from qiskit.circuit.library import U3Gate, CZGate, PhaseGate\n",
    "from qiskit.compiler import transpile\n",
    "from qiskit_aer.noise import *\n",
    "from qiskit_aer import AerSimulator\n",
    "from qiskit.visualization.pulse_v2 import draw, IQXDebugging, IQXStandard, IQXSimple\n",
    "\n",
    "\n",
    "\n",
    "import sys, importlib\n",
    "# sys.path.append(\"/usr/people/raamu/jader/MEGA/classes\")\n",
    "sys.path.append(\"/Users/jaderps/MEGA/classes\")\n",
    "\n",
    "\n",
    "# from kik_mitigation_v3 import *\n",
    "# from splitter_v1 import *\n",
    "from pretty_result_v1 import *\n",
    "from jlib_v1 import *"
   ]
  },
  {
   "cell_type": "code",
   "execution_count": 3,
   "id": "7d13d0df-9bed-4df2-992f-01e7d1f02df5",
   "metadata": {},
   "outputs": [],
   "source": [
    "# hub='ibm-q'\n",
    "# group='open'\n",
    "# project='main'\n",
    "hub = 'ibm-q-research'\n",
    "group = 'jerusalem-1'\n",
    "project = 'main'\n",
    "\n",
    "backend_name = 'ibm_nairobi'\n",
    "\n",
    "\n",
    "# ------------------------------------------------------------------------------\n",
    "from qiskit_ibm_provider import IBMProvider \n",
    "provider = IBMProvider()\n",
    "hgp = f\"{hub}/{group}/{project}\"\n",
    "backend = provider.get_backend(backend_name, instance=hgp)\n",
    "\n",
    "\n",
    "# from qiskit import IBMQ\n",
    "# IBMQ.load_account() \n",
    "# provider = IBMQ.get_provider(hub=hub, group=group, project=project)\n",
    "# backend = provider.get_backend(backend_name)\n",
    "# ------------------------------------------------------------------------------\n",
    "\n",
    "\n",
    "backend_config = backend.configuration()\n",
    "backend_defaults = backend.defaults()\n",
    "backend_props = backend.properties()\n",
    "\n",
    "# backend_config.basis_gates\n",
    "dt = backend_config.dt"
   ]
  },
  {
   "cell_type": "code",
   "execution_count": 4,
   "id": "02fbfe25-3c3a-42b4-a1ba-7490637092aa",
   "metadata": {},
   "outputs": [],
   "source": [
    "from qiskit.circuit import Delay\n",
    "\n",
    "def empty():\n",
    "    qc = QuantumCircuit(2)\n",
    "    qc.measure_all()\n",
    "    qc = transpile(qc, backend,optimization_level=0) #, scheduling_method=\"asap\")\n",
    "    return qc\n"
   ]
  },
  {
   "cell_type": "code",
   "execution_count": 5,
   "id": "40fa37ce-db28-4f09-8ac2-d74a107cfd36",
   "metadata": {},
   "outputs": [],
   "source": [
    "mapping = mthree.utils.final_measurement_mapping(empty())\n",
    "mapping.values()\n",
    "\n",
    "qubits_list_cal = list(mapping.values())\n",
    "\n",
    "mit = mthree.M3Mitigation(backend)\n",
    "\n",
    "shots_cal_num = 32000\n",
    "\n",
    "\n",
    "cals_file = \"mthree_cal_\" + f'{backend_name}_' + datetime.now().strftime('%d_%m_%Y_%H_%M_%S') + \".py.json\"\n",
    "\n",
    "mit.cals_from_system(qubits_list_cal, shots = shots_cal_num, cals_file=cals_file)"
   ]
  },
  {
   "cell_type": "code",
   "execution_count": 6,
   "id": "fd65c78b-73cb-4f06-bbfe-3ad9cd9b166b",
   "metadata": {},
   "outputs": [
    {
     "data": {
      "text/plain": [
       "[0, 1]"
      ]
     },
     "execution_count": 6,
     "metadata": {},
     "output_type": "execute_result"
    }
   ],
   "source": [
    "qubits_list_cal"
   ]
  },
  {
   "cell_type": "code",
   "execution_count": null,
   "id": "7fa5f7d4-0f10-40bc-9719-9a538fdbd7f4",
   "metadata": {},
   "outputs": [],
   "source": []
  }
 ],
 "metadata": {
  "kernelspec": {
   "display_name": "Python 3 (ipykernel)",
   "language": "python",
   "name": "python3"
  },
  "language_info": {
   "codemirror_mode": {
    "name": "ipython",
    "version": 3
   },
   "file_extension": ".py",
   "mimetype": "text/x-python",
   "name": "python",
   "nbconvert_exporter": "python",
   "pygments_lexer": "ipython3",
   "version": "3.11.4"
  }
 },
 "nbformat": 4,
 "nbformat_minor": 5
}
