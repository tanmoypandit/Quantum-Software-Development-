{
 "cells": [
  {
   "cell_type": "code",
   "execution_count": 2,
   "id": "f63c6156-bc40-4577-9ec5-e690d3918ad4",
   "metadata": {},
   "outputs": [
    {
     "data": {
      "text/plain": [
       "'0.25.1'"
      ]
     },
     "metadata": {},
     "output_type": "display_data"
    },
    {
     "data": {
      "text/plain": [
       "{'qiskit-terra': '0.25.1', 'qiskit': '0.44.1', 'qiskit-aer': '0.12.2', 'qiskit-ignis': None, 'qiskit-ibmq-provider': '0.20.2', 'qiskit-nature': None, 'qiskit-finance': None, 'qiskit-optimization': None, 'qiskit-machine-learning': None}"
      ]
     },
     "metadata": {},
     "output_type": "display_data"
    }
   ],
   "source": [
    "import qiskit\n",
    "display(qiskit.__version__)\n",
    "display(qiskit.__qiskit_version__)"
   ]
  },
  {
   "cell_type": "code",
   "execution_count": 3,
   "id": "d9286e33-3d81-4940-a072-75ae8e118a26",
   "metadata": {},
   "outputs": [],
   "source": [
    "import numpy as np\n",
    "import random\n",
    "import time\n",
    "from datetime import datetime\n",
    "import mthree\n",
    "from collections import Counter\n",
    "import itertools\n",
    "\n",
    "\n",
    "import pandas as pd\n",
    "heading_properties = [('font-size', '15px')]\n",
    "cell_properties = [('font-size', '15px')]\n",
    "dfstyle = [dict(selector=\"th\", props=heading_properties),\\\n",
    "           dict(selector=\"td\", props=cell_properties),\n",
    "           dict(selector=\"caption\",\n",
    "           props=[(\"text-align\", \"center\"),\n",
    "                  (\"font-size\", \"15px\"),\n",
    "                  (\"color\", 'black')])]\n",
    "\n",
    "\n",
    "from qiskit import QuantumCircuit\n",
    "from qiskit import schedule\n",
    "from qiskit import pulse\n",
    "from qiskit.circuit import Gate\n",
    "from qiskit.circuit.library import U3Gate, CZGate, PhaseGate\n",
    "from qiskit.compiler import transpile\n",
    "from qiskit_aer.noise import *\n",
    "from qiskit_aer import AerSimulator\n",
    "from qiskit.visualization.pulse_v2 import draw, IQXDebugging, IQXStandard, IQXSimple\n",
    "\n",
    "\n",
    "\n",
    "import sys, importlib\n",
    "# sys.path.append(\"/usr/people/raamu/jader/MEGA/classes\")\n",
    "sys.path.append(\"/Users/jaderps/MEGA/classes\")\n",
    "\n",
    "\n",
    "from kik_mitigation_v3 import *\n",
    "# from splitter_v1 import *\n",
    "from pretty_result_v1 import *\n",
    "from jlib_v1 import *\n"
   ]
  },
  {
   "cell_type": "code",
   "execution_count": 4,
   "id": "7d13d0df-9bed-4df2-992f-01e7d1f02df5",
   "metadata": {},
   "outputs": [
    {
     "name": "stderr",
     "output_type": "stream",
     "text": [
      "/var/folders/z9/y0fqf5kx4f35byv8h0sltvdw0000gn/T/ipykernel_20670/3008469674.py:19: DeprecationWarning: The qiskit.IBMQ entrypoint and the qiskit-ibmq-provider package (accessible from 'qiskit.providers.ibmq`) are deprecated and will be removed in a future release. Instead you should use the qiskit-ibm-provider package which is accessible from 'qiskit_ibm_provider'. You can install it with 'pip install qiskit_ibm_provider'. Just replace 'qiskit.IBMQ' with 'qiskit_ibm_provider.IBMProvider'\n",
      "  IBMQ.load_account()\n"
     ]
    },
    {
     "data": {
      "text/plain": [
       "2.2222222222222221e-10"
      ]
     },
     "execution_count": 4,
     "metadata": {},
     "output_type": "execute_result"
    }
   ],
   "source": [
    "# hub='ibm-q'\n",
    "# group='open'\n",
    "# project='main'\n",
    "hub = 'ibm-q-research'\n",
    "group = 'jerusalem-1'\n",
    "project = 'main'\n",
    "\n",
    "backend_name = 'ibm_nairobi'\n",
    "\n",
    "\n",
    "# ------------------------------------------------------------------------------\n",
    "# from qiskit_ibm_provider import IBMProvider \n",
    "# provider = IBMProvider()\n",
    "# hgp = f\"{hub}/{group}/{project}\"\n",
    "# backend = provider.get_backend(backend_name, instance=hgp)\n",
    "\n",
    "\n",
    "from qiskit import IBMQ\n",
    "IBMQ.load_account() \n",
    "provider = IBMQ.get_provider(hub=hub, group=group, project=project)\n",
    "backend = provider.get_backend(backend_name)\n",
    "# ------------------------------------------------------------------------------\n",
    "\n",
    "\n",
    "backend_config = backend.configuration()\n",
    "backend_defaults = backend.defaults()\n",
    "backend_props = backend.properties()\n",
    "\n",
    "# backend_config.basis_gates\n",
    "dt = backend_config.dt\n",
    "\n",
    "dt"
   ]
  },
  {
   "cell_type": "code",
   "execution_count": 5,
   "id": "2ac201c5-3b7e-47ce-b14d-1e3293361e43",
   "metadata": {},
   "outputs": [],
   "source": [
    "def rand(i):\n",
    "    tab = [[0, 0, 0], \n",
    "           [-np.pi, np.pi, 0],\n",
    "           [np.pi, np.pi/2, np.pi/2],\n",
    "           [0, np.pi/2, np.pi/2]\n",
    "          ]\n",
    "    return tab[i]\n",
    "    \n",
    "def empty_rc(t):\n",
    "    \n",
    "    i0,i1,i2,i3 = [random.randint(0, 3) for _ in range(4)]\n",
    "    \n",
    "    qc = QuantumCircuit(4,2)\n",
    "    qc.h(0)\n",
    "    qc.cnot(0,1)\n",
    "    #\n",
    "    qc.barrier()\n",
    "    #\n",
    "    if i0 in [0,3] and i1 in [0,3] and i2 in [0,3] and i3 in [0,3]:\n",
    "        qc.delay(160)\n",
    "    qc.u(*rand(i0),0)\n",
    "    qc.u(*rand(i1),1)\n",
    "    qc.u(*rand(i2),2)\n",
    "    qc.u(*rand(i3),3)\n",
    "    #\n",
    "    qc.barrier()\n",
    "    #\n",
    "    qc.delay(t*(80+160+160+160+80)+2*160)\n",
    "    #\n",
    "    qc.barrier()\n",
    "    #\n",
    "    if i0 in [0,3] and i1 in [0,3] and i2 in [0,3] and i3 in [0,3]:\n",
    "        qc.delay(160)\n",
    "    qc.u(*rand(i0),0)\n",
    "    qc.u(*rand(i1),1)\n",
    "    qc.u(*rand(i2),2)\n",
    "    qc.u(*rand(i3),3)\n",
    "    #\n",
    "    qc.barrier()\n",
    "    #\n",
    "    qc.cnot(0,1)\n",
    "    qc.h(0)\n",
    "    qc.measure([0,1],[0,1])\n",
    "    qc = transpile(qc, backend,optimization_level=1) #, scheduling_method=\"asap\")\n",
    "    return qc\n",
    "\n",
    "def empty_rc_kkik(n,t):\n",
    "    def k_():\n",
    "        return Kik_pg(empty_rc(t), backend).k().remove_final_measurements(inplace=False)\n",
    "    def ki_(): \n",
    "        return  Kik_pg(empty_rc(t), backend).ki().remove_final_measurements(inplace=False)\n",
    "    #\n",
    "    qc_ = QuantumCircuit(7,2)\n",
    "    if n==0:\n",
    "        qc_ = qc_.compose(k_())\n",
    "        # qc_.barrier()\n",
    "    elif n==1:\n",
    "        qc_.barrier()\n",
    "        qc_ = qc_.compose(k_())\n",
    "        qc_.barrier()\n",
    "        qc_ = qc_.compose(ki_())\n",
    "        qc_.barrier()\n",
    "        qc_ = qc_.compose(k_())\n",
    "        # qc_.barrier()\n",
    "    elif n==2:\n",
    "        qc_.barrier()\n",
    "        qc_ = qc_.compose(k_())\n",
    "        qc_.barrier()\n",
    "        qc_ = qc_.compose(ki_())\n",
    "        qc_.barrier()\n",
    "        qc_ = qc_.compose(k_())\n",
    "        qc_.barrier()    \n",
    "        qc_ = qc_.compose(ki_())\n",
    "        qc_.barrier()\n",
    "        qc_ = qc_.compose(k_())\n",
    "        # qc_.barrier()\n",
    "    qc_.measure([0,1],[0,1])    \n",
    "    return qc_\n",
    "\n",
    "# empty_rc_kkik(1,0).draw()\n",
    "# empty_rc(1).draw()"
   ]
  },
  {
   "cell_type": "code",
   "execution_count": 6,
   "id": "7f351eec-cb9a-496a-9065-87f0b69f65fb",
   "metadata": {},
   "outputs": [
    {
     "data": {
      "text/plain": [
       "16000"
      ]
     },
     "metadata": {},
     "output_type": "display_data"
    },
    {
     "data": {
      "text/plain": [
       "48000"
      ]
     },
     "metadata": {},
     "output_type": "display_data"
    },
    {
     "data": {
      "text/plain": [
       "80000"
      ]
     },
     "metadata": {},
     "output_type": "display_data"
    }
   ],
   "source": [
    "display(schedule(empty_rc_kkik(0,20).remove_final_measurements(inplace=False), backend).duration)\n",
    "display(schedule(empty_rc_kkik(1,20).remove_final_measurements(inplace=False), backend).duration)\n",
    "display(schedule(empty_rc_kkik(2,20).remove_final_measurements(inplace=False), backend).duration)"
   ]
  },
  {
   "cell_type": "code",
   "execution_count": 7,
   "id": "010068b2-d462-484f-99b3-d5bb5f2678b9",
   "metadata": {},
   "outputs": [
    {
     "data": {
      "text/plain": [
       "48000"
      ]
     },
     "metadata": {},
     "output_type": "display_data"
    },
    {
     "data": {
      "text/plain": [
       "80000"
      ]
     },
     "metadata": {},
     "output_type": "display_data"
    }
   ],
   "source": [
    "display(schedule(empty_rc_kkik(0,20).remove_final_measurements(inplace=False), backend).duration * 3,\n",
    "        schedule(empty_rc_kkik(0,20).remove_final_measurements(inplace=False), backend).duration * 5)"
   ]
  },
  {
   "cell_type": "code",
   "execution_count": 8,
   "id": "02fbfe25-3c3a-42b4-a1ba-7490637092aa",
   "metadata": {},
   "outputs": [],
   "source": [
    "from qiskit.circuit import Delay\n",
    "\n",
    "def empty(t):\n",
    "    qc = QuantumCircuit(2)\n",
    "    qc.h(0)\n",
    "    qc.cnot(0,1)\n",
    "    qc.barrier()\n",
    "    qc.delay(t*(2*80+3*160)+4*160)\n",
    "    qc.barrier()\n",
    "    qc.cnot(0,1)\n",
    "    qc.h(0)\n",
    "    qc.measure_all()\n",
    "    qc = transpile(qc, backend,optimization_level=0) #, scheduling_method=\"asap\")\n",
    "    return qc\n",
    "\n",
    "def circuit_xy4(t):\n",
    "    qc = QuantumCircuit(2)\n",
    "    qc.h(0)\n",
    "    qc.cnot(0,1)\n",
    "    qc.barrier()\n",
    "    qc.delay(t*80)\n",
    "    qc.x(0)\n",
    "    qc.x(1)\n",
    "    qc.delay(t*160)\n",
    "    qc.y(0)\n",
    "    qc.y(1)\n",
    "    qc.delay(t*160)\n",
    "    qc.x(0)\n",
    "    qc.x(1)\n",
    "    qc.delay(t*160)\n",
    "    qc.y(0)\n",
    "    qc.y(1)\n",
    "    qc.delay(t*80)\n",
    "    qc.barrier()\n",
    "    qc.cnot(0,1)\n",
    "    qc.h(0)\n",
    "    qc.measure_all()\n",
    "    qc = transpile(qc, backend,optimization_level=0) #, scheduling_method=\"asap\")\n",
    "    return qc\n"
   ]
  },
  {
   "cell_type": "code",
   "execution_count": 9,
   "id": "993bc79e-f405-4e04-b0dc-6932275b86e6",
   "metadata": {},
   "outputs": [
    {
     "data": {
      "text/plain": [
       "2176"
      ]
     },
     "metadata": {},
     "output_type": "display_data"
    },
    {
     "data": {
      "text/plain": [
       "2176"
      ]
     },
     "metadata": {},
     "output_type": "display_data"
    },
    {
     "data": {
      "text/plain": [
       "2176"
      ]
     },
     "metadata": {},
     "output_type": "display_data"
    }
   ],
   "source": [
    "t = [0,2,4,8][3]\n",
    "display(-6144+schedule(empty(t).remove_final_measurements(inplace=False), backend).duration)\n",
    "display(-6144+schedule(circuit_xy4(t).remove_final_measurements(inplace=False), backend).duration)\n",
    "display(-6144+schedule(empty_rc(t).remove_final_measurements(inplace=False), backend).duration)"
   ]
  },
  {
   "cell_type": "code",
   "execution_count": 10,
   "id": "d2363ff2-e3e9-4511-8cb5-4c1bb605cfc8",
   "metadata": {},
   "outputs": [
    {
     "name": "stdout",
     "output_type": "stream",
     "text": [
      "CPU times: user 1min 4s, sys: 1.45 s, total: 1min 5s\n",
      "Wall time: 1min 5s\n"
     ]
    },
    {
     "data": {
      "text/plain": [
       "252"
      ]
     },
     "execution_count": 10,
     "metadata": {},
     "output_type": "execute_result"
    }
   ],
   "source": [
    "%%time \n",
    "\n",
    "def initial_dep(d):\n",
    "    qc = QuantumCircuit(2)\n",
    "    qc.rz(list(itertools.product([1,-1], repeat=2))[d][0]*np.pi/2, [0])\n",
    "    qc.rz(list(itertools.product([1,-1], repeat=2))[d][1]*np.pi/2, [1])\n",
    "    qc.barrier([0,1])\n",
    "    qc_t = transpile(qc, backend, optimization_level=0)\n",
    "    return qc_t\n",
    "\n",
    "\n",
    "batches_num = 5\n",
    "\n",
    "trange = [2,4,8]\n",
    "\n",
    "circuit_list = []\n",
    "circuit_list.extend([initial_dep(d).compose(Kik_pg(empty(t), backend).kkik(n)) for t in trange for d in range(4) for n in range(3)])\n",
    "circuit_list.extend([initial_dep(d).compose(empty_rc_kkik(n,t)) for t in trange for d in range(4) for n in range(3) for _ in range(batches_num)])\n",
    "circuit_list.extend([initial_dep(d).compose(Kik_pg(circuit_xy4(t), backend).kkik(n)) for t in trange for d in range(4) for n in range(3)])\n",
    "\n",
    "len(circuit_list)\n",
    "\n"
   ]
  },
  {
   "cell_type": "code",
   "execution_count": 7,
   "id": "96f50872-90e4-43d2-b81d-ca19ee80d71e",
   "metadata": {},
   "outputs": [],
   "source": [
    "# display(circuit_list[0].draw(fold=-1))\n",
    "# display(circuit_list[36].draw(fold=-1))\n",
    "# display(circuit_list[36+1].draw(fold=-1))\n",
    "# display(circuit_list[216].draw(fold=-1))"
   ]
  },
  {
   "cell_type": "code",
   "execution_count": 8,
   "id": "286bf5e2-78d8-459f-915f-41da23c460db",
   "metadata": {},
   "outputs": [],
   "source": [
    "# display(schedule(circuit_list[0+1], backend).duration,\n",
    "# schedule(circuit_list[36+5], backend).duration,\n",
    "# schedule(circuit_list[216+1], backend).duration)"
   ]
  },
  {
   "cell_type": "code",
   "execution_count": 14,
   "id": "ee4e6c96-2352-4c13-94e8-9efb8355f479",
   "metadata": {},
   "outputs": [],
   "source": [
    "circ_num = len(circuit_list)\n",
    "init_state_num = 1\n",
    "shots_num = 32000\n",
    "dep_num = 2**2\n",
    "kik_num = 2\n",
    "shots_cal_num = 32000\n",
    "\n",
    "batches_num = 5\n",
    "\n",
    "trange = [2,4,8]\n",
    "\n",
    "# time_0 = schedule(transpile(circuit_xy4(8).remove_final_measurements(inplace=False), backend), backend).duration\n",
    "# time_0 = time_0*dt\n",
    "# time_0 = time_0*shots_num\n",
    "# time_0*circ_num"
   ]
  },
  {
   "cell_type": "code",
   "execution_count": 15,
   "id": "025dcb34-256b-4414-8efc-5e492d5524a7",
   "metadata": {},
   "outputs": [
    {
     "name": "stdin",
     "output_type": "stream",
     "text": [
      "Description: ass as das das\n"
     ]
    },
    {
     "name": "stdout",
     "output_type": "stream",
     "text": [
      "cmf9k8xfysfg008t2t3g\n"
     ]
    }
   ],
   "source": [
    "short_description = input(\"Description:\")\n",
    "file_name = f'{backend_name}_'+ datetime.now().strftime('%d_%m_%Y_%H_%M_%S') + \".py\"\n",
    "# cals_file = \"mthree_cal_\" + f'{backend_name}_' + datetime.now().strftime('%d_%m_%Y_%H_%M_%S') + \".py.json\"\n",
    "print(f'# {time.ctime()}', file=open(file_name, \"a\"))\n",
    "print(f'# {short_description}',file=open(file_name, \"a\"))\n",
    "# print(f'qubits_list_cal = {qubits_list_cal}', file=open(file_name, \"a\"))\n",
    "print(f'backend_name = \"{backend_name}\"', file=open(file_name, \"a\"))\n",
    "print(f'shots_num = {shots_num}', file=open(file_name, \"a\"))\n",
    "print(f'shots_cal_num = {shots_cal_num}', file=open(file_name, \"a\"))\n",
    "print(f'init_state_num = {init_state_num}', file=open(file_name, \"a\"))\n",
    "print(f'dep_num = {dep_num}', file=open(file_name, \"a\"))\n",
    "print(f'kik_num = {kik_num}', file=open(file_name, \"a\"))\n",
    "print(f'circ_num = {circ_num}', file=open(file_name, \"a\"))\n",
    "print(f\"hub = '{hub}'\", file=open(file_name, \"a\"))\n",
    "print(f\"group = '{group}'\", file=open(file_name, \"a\"))\n",
    "print(f\"project = '{project}'\", file=open(file_name, \"a\"))\n",
    "# print(f\"cals_file = '{cals_file}'\", file=open(file_name, \"a\"))\n",
    "\n",
    "job = backend.run(circuit_list, shots = shots_num)\n",
    "print(job.job_id()) \n",
    "time.ctime() \n",
    "print(f'job_id = \"{job.job_id()}\"', file=open(file_name, \"a\"))"
   ]
  },
  {
   "cell_type": "code",
   "execution_count": 92,
   "id": "05403400-54fb-4c06-a6bc-b79af448e15c",
   "metadata": {},
   "outputs": [],
   "source": [
    "######################################################################\n",
    "\n",
    "# mit.cals_from_system(qubits_list_cal, shots = shots_cal_num, cals_file=cals_file)"
   ]
  },
  {
   "cell_type": "markdown",
   "id": "7eb349af-edea-437f-8460-b99333cc5314",
   "metadata": {},
   "source": [
    "# results"
   ]
  },
  {
   "cell_type": "code",
   "execution_count": 4,
   "id": "a34f89ba-83a6-4530-a3ef-3bb49fe4cf2e",
   "metadata": {},
   "outputs": [],
   "source": [
    "from ibm_nairobi_28_09_2023_13_26_02 import * \n",
    "\n",
    "# hgp = f\"{hub}/{group}/{project}\"\n",
    "# backend = provider.get_backend(backend_name, instance=hgp)\n",
    "provider = IBMQ.get_provider(hub=hub, group=group, project=project)\n",
    "backend = provider.get_backend(backend_name)\n",
    "\n",
    "\n",
    "job = provider.backend.retrieve_job(globals()['job_id'])\n",
    "mit = mthree.M3Mitigation()\n",
    "mit.cals_from_file(globals()['cals_file'])"
   ]
  },
  {
   "cell_type": "code",
   "execution_count": 15,
   "id": "14ee4ab9-c894-4584-a0bc-73976a677f9b",
   "metadata": {},
   "outputs": [
    {
     "data": {
      "text/plain": [
       "(0, 36, 180, 36)"
      ]
     },
     "execution_count": 15,
     "metadata": {},
     "output_type": "execute_result"
    }
   ],
   "source": [
    "0, 3*4*3, 5*3*4*3, 3*4*3"
   ]
  },
  {
   "cell_type": "code",
   "execution_count": 19,
   "id": "7dea3ca4-9840-476a-8c01-291be05cd7cf",
   "metadata": {},
   "outputs": [
    {
     "data": {
      "text/plain": [
       "252"
      ]
     },
     "execution_count": 19,
     "metadata": {},
     "output_type": "execute_result"
    }
   ],
   "source": [
    "circ_num"
   ]
  },
  {
   "cell_type": "code",
   "execution_count": 8,
   "id": "54094464-04d0-4df0-aca3-50264acaa3c6",
   "metadata": {},
   "outputs": [
    {
     "data": {
      "text/plain": [
       "[0.9174140625, 0.0007692480530117564]"
      ]
     },
     "metadata": {},
     "output_type": "display_data"
    },
    {
     "data": {
      "text/plain": [
       "[0.8732906249999999, 0.00040561164182700143]"
      ]
     },
     "metadata": {},
     "output_type": "display_data"
    },
    {
     "data": {
      "text/plain": [
       "[0.9439921875000001, 0.0006426809749210821]"
      ]
     },
     "metadata": {},
     "output_type": "display_data"
    }
   ],
   "source": [
    "sl = state_label(len(qubits_list_cal))\n",
    "\n",
    "counts_raw = job.result().get_counts()\n",
    "counts_cal = mit.apply_correction(counts_raw, \n",
    "                                  qubits_list_cal,\n",
    "                                  return_mitigation_overhead=True)\n",
    "\n",
    "def data_counts(cal): \n",
    "    num = circ_num\n",
    "    if cal=='raw': \n",
    "        return [Counter({**dict.fromkeys(sl, 0),**counts_raw[j]}) for j in range(num)]\n",
    "    elif cal=='cal': \n",
    "        return [Counter({**dict.fromkeys(sl, 0),**counts_cal[j]}) for j in range(num)]    \n",
    "    else: \n",
    "        raise SyntaxError('Error') \n",
    "        sys.exit(1) \n",
    "\n",
    "def prob(g, t, n, cal, s=0):\n",
    "    def prob2(d, g, t, n, cal):\n",
    "        glist = [0, 3*4*3, 3*4*3 + 5*3*4*3, 3*4*3 + 5*3*4*3 + 3*4*3]\n",
    "        if g==0:\n",
    "            data = [data_counts(cal)[glist[g]:glist[g+1]][n::(kik_num+1)][t*4:(1+t)*4][d]]\n",
    "        elif g==1:\n",
    "            data = data_counts(cal)[glist[g]:glist[g+1]][batches_num*n + t*batches_num * dep_num * (kik_num+1)+batches_num*3*d:\n",
    "                                              batches_num*n + t*batches_num * dep_num * (kik_num+1)+batches_num*3*d+batches_num]\n",
    "        elif g==2:\n",
    "            data = [data_counts(cal)[glist[g]:glist[g+1]][n::(kik_num+1)][t*4:(1+t)*4][d]]\n",
    "        return data\n",
    "    delta = len(prob2(0, g, t, n, cal))\n",
    "    data_ = np.array([[prob2(d, g, t, n, cal)[i][sl[s]] for i in range(delta)] for d in range(4)]).flatten()\n",
    "    if cal=='raw':\n",
    "        p_list = np.array(data_)/shots_num\n",
    "    elif cal=='cal':\n",
    "        p_list = np.array(data_)\n",
    "    else:\n",
    "        raise SyntaxError('Error')  \n",
    "    p_avg = np.mean(p_list)    \n",
    "    p_error = (1/len(data_))*np.sqrt(np.sum(p_list*(1-p_list)/shots_num))    \n",
    "    return [p_avg, p_error]\n",
    "\n",
    "\n",
    "\n",
    "display(prob(0, 1, 0, 'raw'))\n",
    "display(prob(1, 1, 0, 'raw'))\n",
    "display(prob(2, 1, 0, 'raw'))"
   ]
  },
  {
   "cell_type": "code",
   "execution_count": 13,
   "id": "e346eef3-e324-4254-b302-9a0c23c4817e",
   "metadata": {},
   "outputs": [
    {
     "data": {
      "text/plain": [
       "['0.9373(7)', '0.649(1)', '0.342(1)']"
      ]
     },
     "metadata": {},
     "output_type": "display_data"
    },
    {
     "data": {
      "text/plain": [
       "['0.8904(4)', '0.7202(5)', '0.6127(6)']"
      ]
     },
     "metadata": {},
     "output_type": "display_data"
    },
    {
     "data": {
      "text/plain": [
       "['0.9657(5)', '0.8897(9)', '0.793(1)']"
      ]
     },
     "metadata": {},
     "output_type": "display_data"
    }
   ],
   "source": [
    "t = 1\n",
    "cal = 'cal'\n",
    "# [Pretty_result(prob(0, t, n, cal)).pretty_form() for n in range(kik_num+1)]\n",
    "display([Pretty_result(*list(prob(0, t, n, cal))).pretty_form() for n in range(kik_num+1)])\n",
    "display([Pretty_result(*list(prob(1, t, n, cal))).pretty_form() for n in range(kik_num+1)])\n",
    "display([Pretty_result(*list(prob(2, t, n, cal))).pretty_form() for n in range(kik_num+1)])"
   ]
  },
  {
   "cell_type": "code",
   "execution_count": 15,
   "id": "d595c67b-ce76-46cc-8f92-9e0f64bedd63",
   "metadata": {},
   "outputs": [
    {
     "data": {
      "text/plain": [
       "['0.9583(6)', '1.044(1)', '1.018(2)']"
      ]
     },
     "metadata": {},
     "output_type": "display_data"
    },
    {
     "data": {
      "text/plain": [
       "['0.9491(3)', '1.0111(5)', '1.0034(8)']"
      ]
     },
     "metadata": {},
     "output_type": "display_data"
    },
    {
     "data": {
      "text/plain": [
       "['0.9687(5)', '1.0064(8)', '1.000(1)']"
      ]
     },
     "metadata": {},
     "output_type": "display_data"
    }
   ],
   "source": [
    "t = 0\n",
    "cal = 'cal'\n",
    "display([Pretty_result(*list(kik([prob(0, t, n, cal) for n in range(kik_num+1)], m) )).pretty_form() for m in range(kik_num+1)])\n",
    "display([Pretty_result(*list(kik([prob(1, t, n, cal) for n in range(kik_num+1)], m) )).pretty_form() for m in range(kik_num+1)])\n",
    "display([Pretty_result(*list(kik([prob(2, t, n, cal) for n in range(kik_num+1)], m) )).pretty_form() for m in range(kik_num+1)])"
   ]
  },
  {
   "cell_type": "code",
   "execution_count": 16,
   "id": "74ec9b94-51f0-476e-88bb-11d8cddd076b",
   "metadata": {},
   "outputs": [
    {
     "data": {
      "text/plain": [
       "['0.9373(7)', '1.081(1)', '1.074(2)']"
      ]
     },
     "metadata": {},
     "output_type": "display_data"
    },
    {
     "data": {
      "text/plain": [
       "['0.8904(4)', '0.9754(6)', '0.999(1)']"
      ]
     },
     "metadata": {},
     "output_type": "display_data"
    },
    {
     "data": {
      "text/plain": [
       "['0.9657(5)', '1.0037(9)', '0.996(2)']"
      ]
     },
     "metadata": {},
     "output_type": "display_data"
    }
   ],
   "source": [
    "t = 1\n",
    "display([Pretty_result(*list(kik([prob(0, t, n, cal) for n in range(kik_num+1)], m) )).pretty_form() for m in range(kik_num+1)])\n",
    "display([Pretty_result(*list(kik([prob(1, t, n, cal) for n in range(kik_num+1)], m) )).pretty_form() for m in range(kik_num+1)])\n",
    "display([Pretty_result(*list(kik([prob(2, t, n, cal) for n in range(kik_num+1)], m) )).pretty_form() for m in range(kik_num+1)])"
   ]
  },
  {
   "cell_type": "code",
   "execution_count": 17,
   "id": "f9a723dd-f344-4fa0-ba06-a0a202273636",
   "metadata": {},
   "outputs": [
    {
     "data": {
      "text/plain": [
       "['0.8723(9)', '1.124(2)', '1.258(2)']"
      ]
     },
     "metadata": {},
     "output_type": "display_data"
    },
    {
     "data": {
      "text/plain": [
       "['0.6840(5)', '0.7475(8)', '0.758(1)']"
      ]
     },
     "metadata": {},
     "output_type": "display_data"
    },
    {
     "data": {
      "text/plain": [
       "['0.9564(6)', '1.000(1)', '1.000(2)']"
      ]
     },
     "metadata": {},
     "output_type": "display_data"
    }
   ],
   "source": [
    "t = 2\n",
    "display([Pretty_result(*list(kik([prob(0, t, n, cal) for n in range(kik_num+1)], m) )).pretty_form() for m in range(kik_num+1)])\n",
    "display([Pretty_result(*list(kik([prob(1, t, n, cal) for n in range(kik_num+1)], m) )).pretty_form() for m in range(kik_num+1)])\n",
    "display([Pretty_result(*list(kik([prob(2, t, n, cal) for n in range(kik_num+1)], m) )).pretty_form() for m in range(kik_num+1)])"
   ]
  },
  {
   "cell_type": "code",
   "execution_count": 9,
   "id": "edc65a96-5388-4269-9487-304a3dfbdf9e",
   "metadata": {},
   "outputs": [
    {
     "data": {
      "image/png": "[encoded data removed]",
      "text/plain": [
       "<Figure size 640x480 with 1 Axes>"
      ]
     },
     "metadata": {},
     "output_type": "display_data"
    }
   ],
   "source": [
    "\n",
    "def ydata(g, t, cal='cal'):\n",
    "    y = np.array([kik([prob(g, t, n, cal) for n in range(kik_num+1)], m)[0]  for m in range(kik_num+1)])\n",
    "    yerr = np.array([kik([prob(g, t, n, cal) for n in range(kik_num+1)], m)[1]  for m in range(kik_num+1)])\n",
    "    return [y, yerr]\n",
    "\n",
    "\n",
    "import numpy as np; np.random.seed(42)\n",
    "import matplotlib.pyplot as plt\n",
    "from matplotlib.transforms import Affine2D\n",
    "\n",
    "x = ['0', '1', '2']\n",
    "\n",
    "# y1, y2 = np.random.randn(2, len(x))\n",
    "# yerr1, yerr2 = np.random.rand(2, len(x))*4+0.3\n",
    "\n",
    "fig, ax = plt.subplots()\n",
    "\n",
    "trans1 = Affine2D().translate(-0.05, 0.0) + ax.transData\n",
    "trans2 = Affine2D().translate(-0.01, 0.0) + ax.transData\n",
    "trans3 = Affine2D().translate(+0.05, 0.0) + ax.transData\n",
    "trans4 = Affine2D().translate(-0.06, 0.0) + ax.transData\n",
    "trans5 = Affine2D().translate(0.00, 0.0) + ax.transData\n",
    "trans6 = Affine2D().translate(+0.06, 0.0) + ax.transData\n",
    "trans7 = Affine2D().translate(-0.07, 0.0) + ax.transData\n",
    "trans8 = Affine2D().translate(+0.01, 0.0) + ax.transData\n",
    "trans9 = Affine2D().translate(+0.07, 0.0) + ax.transData\n",
    "\n",
    "er1 = ax.errorbar(x, ydata(0, 0)[0], yerr=ydata(0, 0)[1], marker=\"o\", linestyle=\"--\", transform=trans1)\n",
    "er2 = ax.errorbar(x, ydata(1, 0)[0], yerr=ydata(1, 0)[1], marker=\"o\", linestyle=\"--\", transform=trans2)\n",
    "er3 = ax.errorbar(x, ydata(2, 0)[0], yerr=ydata(2, 0)[1], marker=\"o\", linestyle=\"--\", transform=trans3)\n",
    "er4 = ax.errorbar(x, ydata(0, 1)[0], yerr=ydata(0, 1)[1], marker=\"o\", linestyle=\"--\", transform=trans4)\n",
    "er5 = ax.errorbar(x, ydata(1, 1)[0], yerr=ydata(1, 1)[1], marker=\"o\", linestyle=\"--\", transform=trans5)\n",
    "er6 = ax.errorbar(x, ydata(2, 1)[0], yerr=ydata(2, 1)[1], marker=\"o\", linestyle=\"--\", transform=trans6)\n",
    "er7 = ax.errorbar(x, ydata(0, 2)[0], yerr=ydata(0, 2)[1], marker=\"o\", linestyle=\"--\", transform=trans7)\n",
    "er8 = ax.errorbar(x, ydata(1, 2)[0], yerr=ydata(1, 2)[1], marker=\"o\", linestyle=\"--\", transform=trans8)\n",
    "er9 = ax.errorbar(x, ydata(2, 2)[0], yerr=ydata(2, 2)[1], marker=\"o\", linestyle=\"--\", transform=trans9)\n",
    "\n",
    "plt.legend(['ref - 1280dt', 'rc - 1280dt', 'dd - 1280dt',\n",
    "           'ref - 2560dt', 'rc - 2560dt', 'dd - 2560dt',\n",
    "           'ref - 5120dt', 'rc - 5120dt', 'dd - 5120dt']\n",
    "           , prop={'size': 8.0}, ncol=1, loc='lower right')  # loc = (1.6,-.5) # 'lower right'\n",
    "plt.axis(ymin=0.4, ymax=1.4)\n",
    "plt.grid()\n",
    "\n",
    "plt.savefig('plot_1.pdf', dpi=300, bbox_inches='tight')\n",
    "plt.show()\n"
   ]
  },
  {
   "cell_type": "code",
   "execution_count": 10,
   "id": "f61913d9-b511-4a5a-90ea-f1ceedf3b8d2",
   "metadata": {},
   "outputs": [
    {
     "data": {
      "image/png": "[encoded data removed]",
      "text/plain": [
       "<Figure size 640x480 with 1 Axes>"
      ]
     },
     "metadata": {},
     "output_type": "display_data"
    }
   ],
   "source": [
    "import numpy as np; np.random.seed(42)\n",
    "import matplotlib.pyplot as plt\n",
    "from matplotlib.transforms import Affine2D\n",
    "\n",
    "x = ['0', '1', '2']\n",
    "\n",
    "# y1, y2 = np.random.randn(2, len(x))\n",
    "# yerr1, yerr2 = np.random.rand(2, len(x))*4+0.3\n",
    "\n",
    "fig, ax = plt.subplots()\n",
    "\n",
    "trans1 = Affine2D().translate(-0.05, 0.0) + ax.transData\n",
    "trans2 = Affine2D().translate(0.0, 0.0) + ax.transData\n",
    "trans3 = Affine2D().translate(+0.05, 0.0) + ax.transData\n",
    "trans4 = Affine2D().translate(-0.05, 0.0) + ax.transData\n",
    "trans5 = Affine2D().translate(0.0, 0.0) + ax.transData\n",
    "trans6 = Affine2D().translate(+0.05, 0.0) + ax.transData\n",
    "trans7 = Affine2D().translate(-0.05, 0.0) + ax.transData\n",
    "trans8 = Affine2D().translate(0.0, 0.0) + ax.transData\n",
    "trans9 = Affine2D().translate(+0.05, 0.0) + ax.transData\n",
    "\n",
    "er1 = ax.errorbar(x, ydata(0, 0)[0], yerr=ydata(0, 0)[1], marker=\"o\", linestyle=\"--\", transform=trans1)\n",
    "# er2 = ax.errorbar(x, ydata(1, 0)[0], yerr=ydata(1, 0)[1], marker=\"o\", linestyle=\"--\", transform=trans2)\n",
    "er3 = ax.errorbar(x, ydata(2, 0)[0], yerr=ydata(2, 0)[1], marker=\"o\", linestyle=\"-\", transform=trans3)\n",
    "er4 = ax.errorbar(x, ydata(0, 1)[0], yerr=ydata(0, 1)[1], marker=\"o\", linestyle=\"--\", transform=trans4)\n",
    "# er5 = ax.errorbar(x, ydata(1, 1)[0], yerr=ydata(1, 1)[1], marker=\"o\", linestyle=\"--\", transform=trans5)\n",
    "er6 = ax.errorbar(x, ydata(2, 1)[0], yerr=ydata(2, 1)[1], marker=\"o\", linestyle=\"-\", transform=trans6)\n",
    "# er7 = ax.errorbar(x, ydata(0, 2)[0], yerr=ydata(0, 2)[1], marker=\"o\", linestyle=\"--\", transform=trans7)\n",
    "# er8 = ax.errorbar(x, ydata(1, 2)[0], yerr=ydata(1, 2)[1], marker=\"o\", linestyle=\"--\", transform=trans8)\n",
    "# er9 = ax.errorbar(x, ydata(2, 2)[0], yerr=ydata(2, 2)[1], marker=\"o\", linestyle=\"--\", transform=trans9)\n",
    "\n",
    "plt.legend(['ref - 1280dt' \n",
    "            # ,'rc - 1280dt'\n",
    "            ,'dd - 1280dt'\n",
    "            ,'ref - 2560dt' \n",
    "            # ,'rc - 2560dt' \n",
    "            ,'dd - 2560dt'\n",
    "            # ,'ref - 5120dt' \n",
    "            # ,'rc - 5120dt'\n",
    "            #,'dd - 5120dt'\n",
    "           ]\n",
    "          )# , prop={'size': 8.0}, ncol=1, loc='lower right')  # loc = (1.6,-.5) # 'lower right'\n",
    "plt.grid(color='tab:grey', linestyle='-', linewidth=0.3)\n",
    "plt.tick_params(axis='both', which='minor', labelsize=1)\n",
    "plt.xlabel('n')#, fontsize=8)\n",
    "plt.axis(ymin=0.8, ymax=1.1)\n",
    "\n",
    "plt.title(\"Dynamical decoupling\")\n",
    "plt.savefig('plot_3.pdf', dpi=300, bbox_inches='tight')\n",
    "plt.show()"
   ]
  },
  {
   "cell_type": "code",
   "execution_count": 11,
   "id": "99bdfab3-45b0-4544-8051-b856a67100d6",
   "metadata": {},
   "outputs": [
    {
     "data": {
      "image/png": "[encoded data removed]",
      "text/plain": [
       "<Figure size 640x480 with 1 Axes>"
      ]
     },
     "metadata": {},
     "output_type": "display_data"
    }
   ],
   "source": [
    "import numpy as np; np.random.seed(42)\n",
    "import matplotlib.pyplot as plt\n",
    "from matplotlib.transforms import Affine2D\n",
    "\n",
    "x = ['0', '1', '2']\n",
    "\n",
    "# y1, y2 = np.random.randn(2, len(x))\n",
    "# yerr1, yerr2 = np.random.rand(2, len(x))*4+0.3\n",
    "\n",
    "fig, ax = plt.subplots()\n",
    "\n",
    "trans1 = Affine2D().translate(-0.05, 0.0) + ax.transData\n",
    "trans2 = Affine2D().translate(0.0, 0.0) + ax.transData\n",
    "trans3 = Affine2D().translate(+0.05, 0.0) + ax.transData\n",
    "trans4 = Affine2D().translate(-0.05, 0.0) + ax.transData\n",
    "trans5 = Affine2D().translate(0.0, 0.0) + ax.transData\n",
    "trans6 = Affine2D().translate(+0.05, 0.0) + ax.transData\n",
    "trans7 = Affine2D().translate(-0.05, 0.0) + ax.transData\n",
    "trans8 = Affine2D().translate(0.0, 0.0) + ax.transData\n",
    "trans9 = Affine2D().translate(+0.05, 0.0) + ax.transData\n",
    "\n",
    "er1 = ax.errorbar(x, ydata(0, 0)[0], yerr=ydata(0, 0)[1], marker=\"o\", linestyle=\"--\", transform=trans1)\n",
    "er2 = ax.errorbar(x, ydata(1, 0)[0], yerr=ydata(1, 0)[1], marker=\"o\", linestyle=\"-\", transform=trans2)\n",
    "# er3 = ax.errorbar(x, ydata(2, 0)[0], yerr=ydata(2, 0)[1], marker=\"o\", linestyle=\"--\", transform=trans3)\n",
    "er4 = ax.errorbar(x, ydata(0, 1)[0], yerr=ydata(0, 1)[1], marker=\"o\", linestyle=\"--\", transform=trans4)\n",
    "er5 = ax.errorbar(x, ydata(1, 1)[0], yerr=ydata(1, 1)[1], marker=\"o\", linestyle=\"-\", transform=trans5)\n",
    "# er6 = ax.errorbar(x, ydata(2, 1)[0], yerr=ydata(2, 1)[1], marker=\"o\", linestyle=\"--\", transform=trans6)\n",
    "# er7 = ax.errorbar(x, ydata(0, 2)[0], yerr=ydata(0, 2)[1], marker=\"o\", linestyle=\"--\", transform=trans7)\n",
    "# er8 = ax.errorbar(x, ydata(1, 2)[0], yerr=ydata(1, 2)[1], marker=\"o\", linestyle=\"--\", transform=trans8)\n",
    "# er9 = ax.errorbar(x, ydata(2, 2)[0], yerr=ydata(2, 2)[1], marker=\"o\", linestyle=\"--\", transform=trans9)\n",
    "\n",
    "plt.legend(['ref - 1280dt' \n",
    "            ,'rc - 1280dt'\n",
    "            #,'dd - 1280dt'\n",
    "            ,'ref - 2560dt' \n",
    "            ,'rc - 2560dt' \n",
    "            #,'dd - 2560dt'\n",
    "            # ,'ref - 5120dt' \n",
    "            # ,'rc - 5120dt'\n",
    "            #,'dd - 5120dt'\n",
    "           ])#, prop={'size': 8.0}, ncol=1, loc='lower right')  # loc = (1.6,-.5) # 'lower right'\n",
    "plt.grid(color='tab:grey', linestyle='-', linewidth=0.3)\n",
    "plt.tick_params(axis='both', which='minor', labelsize=1)\n",
    "plt.xlabel('n')#, fontsize=8)\n",
    "plt.axis(ymin=0.8, ymax=1.1)\n",
    "\n",
    "plt.title(\"randomized compiling\")\n",
    "plt.savefig('plot_2.pdf', dpi=300, bbox_inches='tight')\n",
    "plt.show()"
   ]
  },
  {
   "cell_type": "code",
   "execution_count": null,
   "id": "dbc7732d-7723-4c3e-9b5c-4bbff8736ad5",
   "metadata": {},
   "outputs": [],
   "source": []
  }
 ],
 "metadata": {
  "kernelspec": {
   "display_name": "Python 3 (ipykernel)",
   "language": "python",
   "name": "python3"
  },
  "language_info": {
   "codemirror_mode": {
    "name": "ipython",
    "version": 3
   },
   "file_extension": ".py",
   "mimetype": "text/x-python",
   "name": "python",
   "nbconvert_exporter": "python",
   "pygments_lexer": "ipython3",
   "version": "3.11.4"
  }
 },
 "nbformat": 4,
 "nbformat_minor": 5
}
